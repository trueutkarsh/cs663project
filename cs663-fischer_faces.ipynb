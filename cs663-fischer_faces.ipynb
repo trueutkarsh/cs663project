{
 "cells": [
  {
   "cell_type": "code",
   "execution_count": 1,
   "metadata": {
    "collapsed": true
   },
   "outputs": [],
   "source": [
    "%matplotlib inline"
   ]
  },
  {
   "cell_type": "code",
   "execution_count": 2,
   "metadata": {
    "collapsed": false
   },
   "outputs": [],
   "source": [
    "# import all libraries here\n",
    "import os\n",
    "import pandas as pd\n",
    "import numpy as np\n",
    "import math as mt\n",
    "import random as rndm\n",
    "\n",
    "import matplotlib.pyplot as plt\n",
    "from scipy.misc import imread\n"
   ]
  },
  {
   "cell_type": "code",
   "execution_count": 3,
   "metadata": {
    "collapsed": false
   },
   "outputs": [],
   "source": [
    "#define all util functions here\n",
    "\n",
    "def shufflesplice(l, n):\n",
    "    rndm.shuffle(l)\n",
    "    return l[:n]"
   ]
  },
  {
   "cell_type": "code",
   "execution_count": 4,
   "metadata": {
    "collapsed": false
   },
   "outputs": [],
   "source": [
    "baseAddress = \"./data/CroppedYale/\"\n",
    "downsamplefactor = 2\n",
    "numSamples = 11\n",
    "numImages = 20\n",
    "imgx = int(192/downsamplefactor)\n",
    "imgy = int(168/downsamplefactor)\n",
    "splitratio = 0.7\n",
    "numTrain =int(mt.floor(numImages*splitratio))\n",
    "numTest = numImages - numTrain\n",
    "trainX = np.zeros((numSamples, numTrain, imgx*imgy))\n",
    "trainY = np.zeros((numSamples, numTrain))\n",
    "testX = np.zeros((numSamples , numTest, imgx*imgy))\n",
    "testY = np.zeros((numSamples , numTest))\n",
    "\n",
    "samplelist = shufflesplice(os.listdir(baseAddress), numSamples)\n",
    "\n",
    "for c in range(0, numSamples):\n",
    "\n",
    "    imglist = shufflesplice(os.listdir(os.path.join(baseAddress, samplelist[c])), numImages)\n",
    "\n",
    "    for i in range(0, numTrain):\n",
    "        imgpath = os.path.join(baseAddress, samplelist[c], imglist[i])\n",
    "        #print(imgpath)\n",
    "        #plt.imshow(np.array(imread(imgpath))[::downsamplefactor, ::downsamplefactor], cmap='Greys_r')\n",
    "        trainX[c, i] = np.array(imread(imgpath))[::downsamplefactor, ::downsamplefactor].reshape((imgx*imgy))\n",
    "        trainY[c, i] = c\n",
    "        \n",
    "    for i in range(numTrain, numImages):\n",
    "        imgpath = os.path.join(baseAddress, samplelist[c], imglist[i])\n",
    "        #print(imgpath)\n",
    "        testX[c, i - numTrain] = np.array(imread(imgpath))[::downsamplefactor, ::downsamplefactor].reshape((imgx*imgy))\n",
    "        testY[c, i - numTrain] = c\n",
    "        \n"
   ]
  },
  {
   "cell_type": "code",
   "execution_count": 5,
   "metadata": {
    "collapsed": true
   },
   "outputs": [],
   "source": [
    "# load the training and test data set"
   ]
  },
  {
   "cell_type": "code",
   "execution_count": 6,
   "metadata": {
    "collapsed": false
   },
   "outputs": [],
   "source": [
    "# write code for first technique correlation\n",
    "from models.Correlation import Correlation"
   ]
  },
  {
   "cell_type": "code",
   "execution_count": 7,
   "metadata": {
    "collapsed": false
   },
   "outputs": [],
   "source": [
    "model_c = Correlation(trainX, trainY)\n",
    "model_c.fit()"
   ]
  },
  {
   "cell_type": "code",
   "execution_count": 8,
   "metadata": {
    "collapsed": false
   },
   "outputs": [],
   "source": [
    "testX = testX.reshape(66, 8064)\n",
    "testY = testY.reshape(66)\n",
    "testX = (testX - testX.mean(axis = 0))/testX.std(axis = 0)"
   ]
  },
  {
   "cell_type": "code",
   "execution_count": 10,
   "metadata": {
    "collapsed": false
   },
   "outputs": [
    {
     "data": {
      "text/plain": [
       "0.5606060606060606"
      ]
     },
     "execution_count": 10,
     "metadata": {},
     "output_type": "execute_result"
    }
   ],
   "source": [
    "model_c.score(testX, testY)"
   ]
  },
  {
   "cell_type": "code",
   "execution_count": 11,
   "metadata": {
    "collapsed": true
   },
   "outputs": [],
   "source": [
    "# write code for second technique eigenfaces PCA"
   ]
  },
  {
   "cell_type": "code",
   "execution_count": 12,
   "metadata": {
    "collapsed": true
   },
   "outputs": [],
   "source": [
    "# write code for linear subspaces technique"
   ]
  },
  {
   "cell_type": "code",
   "execution_count": 13,
   "metadata": {
    "collapsed": true
   },
   "outputs": [],
   "source": [
    "# write code for fischer face technique"
   ]
  },
  {
   "cell_type": "code",
   "execution_count": 14,
   "metadata": {
    "collapsed": true
   },
   "outputs": [],
   "source": [
    "# plot the result here \n",
    "# calculate accuracies, time taken to for operation"
   ]
  },
  {
   "cell_type": "code",
   "execution_count": 15,
   "metadata": {
    "collapsed": true
   },
   "outputs": [],
   "source": [
    "# it's over baby !"
   ]
  }
 ],
 "metadata": {
  "kernelspec": {
   "display_name": "Python [Root]",
   "language": "python",
   "name": "Python [Root]"
  },
  "language_info": {
   "codemirror_mode": {
    "name": "ipython",
    "version": 2
   },
   "file_extension": ".py",
   "mimetype": "text/x-python",
   "name": "python",
   "nbconvert_exporter": "python",
   "pygments_lexer": "ipython2",
   "version": "2.7.11"
  }
 },
 "nbformat": 4,
 "nbformat_minor": 0
}
